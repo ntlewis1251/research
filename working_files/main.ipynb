{
 "cells": [
  {
   "cell_type": "markdown",
   "metadata": {},
   "source": [
    "## Welcome!"
   ]
  },
  {
   "cell_type": "markdown",
   "metadata": {},
   "source": [
    "Note to self: how to update repo\\\n",
    "git status will show changes made\\\n",
    "git add (filename) or '.' will add files to the staging area\\\n",
    "git commit will commit these files\\\n",
    "git push will update the repo with these commits.\n",
    "\n",
    "To commit a delted file: git rm (filename)"
   ]
  },
  {
   "cell_type": "markdown",
   "metadata": {},
   "source": [
    "## Geostack"
   ]
  },
  {
   "cell_type": "code",
   "execution_count": null,
   "metadata": {},
   "outputs": [],
   "source": [
    "from matplotlib import pyplot as plt\n",
    "import seaborn as sns\n",
    "import pandas as pd\n",
    "import numpy as np\n",
    "import geopandas as gpd\n",
    "import rasterio\n",
    "import urllib3\n",
    "import elevation\n",
    "%matplotlib inline\n",
    "import os"
   ]
  },
  {
   "cell_type": "code",
   "execution_count": null,
   "metadata": {},
   "outputs": [
    {
     "name": "stdout",
     "output_type": "stream",
     "text": [
      "Enter a list of bounding coordinates in the following order: minx,miny,maxx,maxyTraceback (most recent call last):\n",
      "  File \"/sciclone/home/ntlewis/research/working_files/get_topo.py\", line 43, in <module>\n",
      "    main()\n",
      "  File \"/sciclone/home/ntlewis/research/working_files/get_topo.py\", line 34, in main\n",
      "    bounds_inp = input('Enter a list of bounding coordinates in the following order: minx,miny,maxx,maxy').split(',')\n",
      "                 ^^^^^^^^^^^^^^^^^^^^^^^^^^^^^^^^^^^^^^^^^^^^^^^^^^^^^^^^^^^^^^^^^^^^^^^^^^^^^^^^^^^^^^^^^\n",
      "KeyboardInterrupt\n",
      "\n",
      "\n",
      "^C\n"
     ]
    }
   ],
   "source": [
    "# Testing command prompt functions here.\n",
    "# Switch to venv: $ source <venv>/bin/activate.csh"
   ]
  },
  {
   "cell_type": "code",
   "execution_count": null,
   "metadata": {},
   "outputs": [],
   "source": []
  }
 ],
 "metadata": {
  "kernelspec": {
   "display_name": ".venv",
   "language": "python",
   "name": "python3"
  },
  "language_info": {
   "codemirror_mode": {
    "name": "ipython",
    "version": 3
   },
   "file_extension": ".py",
   "mimetype": "text/x-python",
   "name": "python",
   "nbconvert_exporter": "python",
   "pygments_lexer": "ipython3",
   "version": "3.11.2"
  }
 },
 "nbformat": 4,
 "nbformat_minor": 2
}
