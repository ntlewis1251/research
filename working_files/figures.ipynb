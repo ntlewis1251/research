{
 "cells": [
  {
   "cell_type": "markdown",
   "id": "35085bdb",
   "metadata": {},
   "source": [
    "# Making Figures for Proposal"
   ]
  },
  {
   "cell_type": "code",
   "execution_count": 1,
   "id": "d939623c",
   "metadata": {},
   "outputs": [
    {
     "name": "stderr",
     "output_type": "stream",
     "text": [
      "/sciclone/home/ntlewis/research/.conda/lib/python3.8/site-packages/lsdtopytools/geoconvtools.py:79: NumbaDeprecationWarning: The keyword argument 'nopython=False' was supplied. From Numba 0.59.0 the default is being changed to True and use of 'nopython=False' will raise a warning as the argument will have no effect. See https://numba.readthedocs.io/en/stable/reference/deprecation.html#deprecation-of-object-mode-fall-back-behaviour-when-using-jit for details.\n",
      "  @nb.jit(nopython = False)\n",
      "/sciclone/home/ntlewis/research/.conda/lib/python3.8/site-packages/lsdtopytools/numba_tools.py:73: NumbaDeprecationWarning: The keyword argument 'nopython=False' was supplied. From Numba 0.59.0 the default is being changed to True and use of 'nopython=False' will raise a warning as the argument will have no effect. See https://numba.readthedocs.io/en/stable/reference/deprecation.html#deprecation-of-object-mode-fall-back-behaviour-when-using-jit for details.\n",
      "  @nb.jit(nopython=False, parallel = True)\n"
     ]
    }
   ],
   "source": [
    "import lsdtopytools as lsd\n",
    "from functions import *\n",
    "import geopandas as gpd\n",
    "import pandas as pd\n",
    "import seaborn as sns\n",
    "import rasterio\n",
    "import rasterio.plot\n",
    "from osgeo import gdal"
   ]
  },
  {
   "cell_type": "code",
   "execution_count": 2,
   "id": "e7dd05a6",
   "metadata": {},
   "outputs": [],
   "source": [
    "# NE bounds for quadrangles\n",
    "pound_ap = (37.125,-82.5)\n",
    "tazwell_south_vr = (37.125,-81.5)\n",
    "montvale_br = (37.5,-79.625)\n",
    "republican_grove_p = (37.000,-79.000)\n",
    "bounds_list=[pound_ap,tazwell_south_vr,montvale_br,republican_grove_p]\n",
    "color_list=['g','y','b','r']"
   ]
  },
  {
   "cell_type": "code",
   "execution_count": 3,
   "id": "46e0ef0d",
   "metadata": {},
   "outputs": [
    {
     "name": "stdout",
     "output_type": "stream",
     "text": [
      "Loading the raster from file: /sciclone/home/ntlewis/research/working_files/data/pound_ap.tiff\n",
      "LOADING TOOK 0.008354663848876953\n",
      "I am recasting your nodata values to -9999 (standard LSDTT)\n",
      "PREPROC TOOK 0.05178022384643555\n",
      "Alright, let me summon control upon the c++ code ...\n",
      "Got it.\n",
      "INGESTINGINTO CPP TOOK 0.002271890640258789\n",
      "I am an empty LSDJunctionNetwork\n",
      "Nrows:1509 and ncols:1218\n",
      "out Nrows:1509 and out ncols:1218\n",
      "\n",
      "I am an empty LSDJunctionNetwork\n",
      "Yes, yes, we know. Ignore the above depressing debugging text, that's perfectly normal to feel empty sometimes.\n",
      "FINALISATION TOOK 8.916854858398438e-05\n",
      "lsdtopytools is now ready to roll!\n",
      "Carving: implementation of Lindsay (2016) DOI: 10.1002/hyp.10648\n",
      "Filling: implementation of Wang and Liu (2006): https://doi.org/10.1080/13658810500433453\n",
      "Processing...\n",
      "I am going to carve/breach your depressions in order to force flow paths.\n",
      "I am using an algorithm from Lindsay et al., 2016 DOI:https://doi.org/10.1002/hyp.10648\n",
      "Implementation adapted from RichDEM: https://github.com/r-barnes/richdemDEM ready for flow routines!\n",
      "Processing common flow routines...\n",
      "Done!\n",
      "\n",
      "Not widely tested yet, It may break...\n",
      "This appears to be a channel made up of a single pixel!\n",
      "I have generated ksn for the specified region!\n",
      "Let me just save the result to the hdf5 file to keep track\n",
      "Loading the raster from file: /sciclone/home/ntlewis/research/working_files/data/tazwell_south_vr.tiff\n",
      "LOADING TOOK 0.0059680938720703125\n",
      "I am recasting your nodata values to -9999 (standard LSDTT)\n",
      "PREPROC TOOK 0.0515599250793457\n",
      "Alright, let me summon control upon the c++ code ...\n",
      "Got it.\n",
      "INGESTINGINTO CPP TOOK 0.0032618045806884766\n",
      "I am an empty LSDJunctionNetwork\n",
      "Nrows:1497 and ncols:1203\n",
      "out Nrows:1497 and out ncols:1203\n",
      "\n",
      "I am an empty LSDJunctionNetwork\n",
      "Yes, yes, we know. Ignore the above depressing debugging text, that's perfectly normal to feel empty sometimes.\n",
      "FINALISATION TOOK 9.012222290039062e-05\n",
      "lsdtopytools is now ready to roll!\n",
      "Carving: implementation of Lindsay (2016) DOI: 10.1002/hyp.10648\n",
      "Filling: implementation of Wang and Liu (2006): https://doi.org/10.1080/13658810500433453\n",
      "Processing...\n",
      "I am going to carve/breach your depressions in order to force flow paths.\n",
      "I am using an algorithm from Lindsay et al., 2016 DOI:https://doi.org/10.1002/hyp.10648\n",
      "DEM ready for flow routines!\n",
      "Processing common flow routines...\n",
      "Done!\n",
      "Implementation adapted from RichDEM: https://github.com/r-barnes/richdem\n",
      "Not widely tested yet, It may break...\n",
      "This appears to be a channel made up of a single pixel!\n",
      "I have generated ksn for the specified region!\n",
      "Let me just save the result to the hdf5 file to keep track\n",
      "Loading the raster from file: /sciclone/home/ntlewis/research/working_files/data/montvale_br.tiff\n",
      "LOADING TOOK 0.0061795711517333984\n",
      "I am recasting your nodata values to -9999 (standard LSDTT)\n",
      "PREPROC TOOK 0.05855512619018555\n",
      "Alright, let me summon control upon the c++ code ...\n",
      "Got it.\n",
      "INGESTINGINTO CPP TOOK 0.0026624202728271484\n",
      "I am an empty LSDJunctionNetwork\n",
      "Nrows:1509 and ncols:1211\n",
      "out Nrows:1509 and out ncols:1211\n",
      "\n",
      "I am an empty LSDJunctionNetwork\n",
      "Yes, yes, we know. Ignore the above depressing debugging text, that's perfectly normal to feel empty sometimes.\n",
      "FINALISATION TOOK 0.00024008750915527344\n",
      "lsdtopytools is now ready to roll!\n",
      "Carving: implementation of Lindsay (2016) DOI: 10.1002/hyp.10648\n",
      "Filling: implementation of Wang and Liu (2006): https://doi.org/10.1080/13658810500433453\n",
      "Processing...\n",
      "I am going to carve/breach your depressions in order to force flow paths.\n",
      "I am using an algorithm from Lindsay et al., 2016 DOI:https://doi.org/10.1002/hyp.10648\n",
      "Implementation adapted from RichDEM: https://github.com/r-barnes/richdemDEM ready for flow routines!\n",
      "Processing common flow routines...\n",
      "\n",
      "Not widely tested yet, It may break...\n",
      "Done!\n",
      "This appears to be a channel made up of a single pixel!\n",
      "I have generated ksn for the specified region!\n",
      "Let me just save the result to the hdf5 file to keep track\n",
      "Loading the raster from file: /sciclone/home/ntlewis/research/working_files/data/dillwyn_p.tiff\n",
      "LOADING TOOK 0.006000995635986328\n",
      "I am recasting your nodata values to -9999 (standard LSDTT)\n",
      "PREPROC TOOK 0.058585405349731445\n",
      "Alright, let me summon control upon the c++ code ...\n",
      "Got it.\n",
      "INGESTINGINTO CPP TOOK 0.0028052330017089844\n",
      "I am an empty LSDJunctionNetwork\n",
      "Nrows:1513 and ncols:1225\n",
      "out Nrows:1513 and out ncols:1225\n",
      "\n",
      "I am an empty LSDJunctionNetwork\n",
      "Yes, yes, we know. Ignore the above depressing debugging text, that's perfectly normal to feel empty sometimes.\n",
      "FINALISATION TOOK 8.559226989746094e-05\n",
      "lsdtopytools is now ready to roll!\n",
      "Carving: implementation of Lindsay (2016) DOI: 10.1002/hyp.10648\n",
      "Filling: implementation of Wang and Liu (2006): https://doi.org/10.1080/13658810500433453\n",
      "Processing...\n",
      "I am going to carve/breach your depressions in order to force flow paths.\n",
      "I am using an algorithm from Lindsay et al., 2016 DOI:https://doi.org/10.1002/hyp.10648\n",
      "Implementation adapted from RichDEM: https://github.com/r-barnes/richdemDEM ready for flow routines!\n",
      "Processing common flow routines...\n",
      "Done!\n",
      "\n",
      "Not widely tested yet, It may break...\n",
      "This appears to be a channel made up of a single pixel!\n",
      "I have generated ksn for the specified region!\n",
      "Let me just save the result to the hdf5 file to keep track\n"
     ]
    }
   ],
   "source": [
    "ap_df, ap_dem = generate_ksn(north=pound_ap[0],east=pound_ap[1],name='pound_ap.tiff')\n",
    "vr_df, vr_dem = generate_ksn(north=tazwell_south_vr[0],east=tazwell_south_vr[1],name='tazwell_south_vr.tiff')\n",
    "br_df, br_dem = generate_ksn(north=montvale_br[0],east=montvale_br[1],name='montvale_br.tiff')\n",
    "p_df, p_dem = generate_ksn(north=republican_grove_p[0],east=republican_grove_p[1],name='dillwyn_p.tiff')\n",
    "df_list = [ap_df,vr_df,br_df,p_df] "
   ]
  },
  {
   "cell_type": "code",
   "execution_count": 4,
   "id": "06a3aa15",
   "metadata": {},
   "outputs": [
    {
     "name": "stdout",
     "output_type": "stream",
     "text": [
      "{'ap': 5.988968181610107, 'vr': 6.908539247512816, 'br': 6.526215147972107, 'p': 1.1773648262023926}\n"
     ]
    }
   ],
   "source": [
    "ninety_five = lambda df : np.percentile(df.m_chi,95)\n",
    "ninety_five_dict = dict(zip(['ap','vr','br','p'],[ninety_five(x) for x in [ap_df,vr_df,br_df,p_df]]))\n",
    "print(ninety_five_dict)"
   ]
  },
  {
   "cell_type": "code",
   "execution_count": 5,
   "id": "75f71d89",
   "metadata": {},
   "outputs": [
    {
     "name": "stdout",
     "output_type": "stream",
     "text": [
      "{'ap': 548.8818359375, 'vr': 847.3070678710938, 'br': 351.63294982910156, 'p': 146.8021240234375}\n"
     ]
    }
   ],
   "source": [
    "q2 = lambda df : df.elevation.describe()['50%']\n",
    "q2_dict = dict(zip(['ap','vr','br','p'],[q2(x) for x in [ap_df,vr_df,br_df,p_df]]))\n",
    "print(q2_dict)"
   ]
  },
  {
   "cell_type": "code",
   "execution_count": 6,
   "id": "474f40f9",
   "metadata": {},
   "outputs": [],
   "source": [
    "dil = rasterio.open('data/dillwyn_p.tiff')"
   ]
  },
  {
   "cell_type": "code",
   "execution_count": 7,
   "id": "ab0180f4",
   "metadata": {},
   "outputs": [
    {
     "data": {
      "text/plain": [
       "array([179.08583, 178.70387, 178.17395, ..., 161.1853 , 160.66853,\n",
       "       159.94907], dtype=float32)"
      ]
     },
     "execution_count": 7,
     "metadata": {},
     "output_type": "execute_result"
    }
   ],
   "source": [
    "elevation=dil.read(1)[dil.read(1)>=0]\n",
    "elevation"
   ]
  },
  {
   "cell_type": "code",
   "execution_count": 1,
   "id": "6794b53e",
   "metadata": {},
   "outputs": [],
   "source": [
    "def make_fig1(df_list, _95_dict, q2_dict, color_list, bounds_list, ax):\n",
    "    n=0\n",
    "    for ax in ax.flat:\n",
    "        key = list(_95_dict)[n]\n",
    "        plot_name = key + 'plot'\n",
    "        plot_name = sns.histplot(data=df_list[n][df_list[n].m_chi>_95_dict[key]], x='elevation', ax=ax, color=color_list[n], binwidth=10, shrink=0.8)\n",
    "        total_stream_plot = sns.histplot(data=df_list[n], x='elevation', ax=ax, binwidth=10, color=color_list[n], alpha=0.3, shrink=0.8)\n",
    "        ax.axvline(x=q2_dict[key], color='k', linestyle=':')\n",
    "        ax.axvline(x=df_list[n][df_list[n].m_chi>_95_dict[key]].elevation.describe()['50%'], color=color_list[n], linestyle=':')\n",
    "        n+=1"
   ]
  },
  {
   "cell_type": "code",
   "execution_count": 2,
   "id": "99431bca",
   "metadata": {},
   "outputs": [
    {
     "ename": "NameError",
     "evalue": "name 'plt' is not defined",
     "output_type": "error",
     "traceback": [
      "\u001b[0;31m---------------------------------------------------------------------------\u001b[0m",
      "\u001b[0;31mNameError\u001b[0m                                 Traceback (most recent call last)",
      "Cell \u001b[0;32mIn[2], line 1\u001b[0m\n\u001b[0;32m----> 1\u001b[0m fig, ax \u001b[38;5;241m=\u001b[39m \u001b[43mplt\u001b[49m\u001b[38;5;241m.\u001b[39msubplots(\u001b[38;5;241m2\u001b[39m,\u001b[38;5;241m2\u001b[39m, figsize\u001b[38;5;241m=\u001b[39m(\u001b[38;5;241m20\u001b[39m,\u001b[38;5;241m12\u001b[39m), dpi\u001b[38;5;241m=\u001b[39m\u001b[38;5;241m300\u001b[39m, constrained_layout\u001b[38;5;241m=\u001b[39m\u001b[38;5;28;01mTrue\u001b[39;00m)\n\u001b[1;32m      2\u001b[0m fig\u001b[38;5;241m.\u001b[39msuptitle(\u001b[38;5;124m'\u001b[39m\u001b[38;5;124mElevation of Stream Reaches With $95^\u001b[39m\u001b[38;5;132;01m{th}\u001b[39;00m\u001b[38;5;124m$ Percentile $k_\u001b[39m\u001b[38;5;132;01m{sn}\u001b[39;00m\u001b[38;5;124m$ (Knickpoints) in Each Appalachian Province\u001b[39m\u001b[38;5;124m'\u001b[39m, fontsize\u001b[38;5;241m=\u001b[39m\u001b[38;5;241m16\u001b[39m)\n\u001b[1;32m      3\u001b[0m sns\u001b[38;5;241m.\u001b[39mdespine()\n",
      "\u001b[0;31mNameError\u001b[0m: name 'plt' is not defined"
     ]
    }
   ],
   "source": [
    "fig, ax = plt.subplots(2,2, figsize=(20,12), dpi=300, constrained_layout=True)\n",
    "fig.suptitle('Elevation of Stream Reaches With $95^{th}$ Percentile $k_{sn}$ (Knickpoints) in Each Appalachian Province', fontsize=16)\n",
    "sns.despine()\n",
    "make_fig1(df_list=df_list, _95_dict=ninety_five_dict, q2_dict=q2_dict, color_list=color_list, bounds_list=bounds_list, ax=ax)\n",
    "ax[0,0].set_title('Appalachian Plateau, Pound Quadrangle', fontsize=14)\n",
    "ax[0,1].set_title('Valley and Ridge, Tazwell South Quadrangle', fontsize=14)\n",
    "ax[1,0].set_title('Blue Ridge, Montvale Quadrangle', fontsize=14)\n",
    "ax[1,1].set_title('Piedmont, Republican Grove Quadrangle', fontsize=14)\n",
    "ax[0,0].text(x=750,y=1750,s=pound_ap, fontsize=14,c='g')\n",
    "ax[0,1].text(x=1150,y=2000,s=tazwell_south_vr, fontsize=14,c='y')\n",
    "ax[1,0].text(x=700,y=2250,s=montvale_br, fontsize=14,c='b')\n",
    "ax[1,1].text(x=190,y=3500,s=republican_grove_p, fontsize=14,c='r')"
   ]
  },
  {
   "cell_type": "code",
   "execution_count": null,
   "id": "c016ecc7",
   "metadata": {},
   "outputs": [],
   "source": []
  }
 ],
 "metadata": {
  "kernelspec": {
   "display_name": "Python 3",
   "language": "python",
   "name": "python3"
  },
  "language_info": {
   "codemirror_mode": {
    "name": "ipython",
    "version": 3
   },
   "file_extension": ".py",
   "mimetype": "text/x-python",
   "name": "python",
   "nbconvert_exporter": "python",
   "pygments_lexer": "ipython3",
   "version": "3.8.20"
  }
 },
 "nbformat": 4,
 "nbformat_minor": 5
}
