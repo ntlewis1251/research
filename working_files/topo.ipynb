{
 "cells": [
  {
   "cell_type": "code",
   "execution_count": 1,
   "metadata": {},
   "outputs": [
    {
     "name": "stdout",
     "output_type": "stream",
     "text": [
      "testing conda venv\n",
      "leveraging different environments\n"
     ]
    }
   ],
   "source": [
    "print(\"testing conda venv\\nleveraging different environments\")"
   ]
  },
  {
   "cell_type": "code",
   "execution_count": 1,
   "metadata": {},
   "outputs": [
    {
     "name": "stderr",
     "output_type": "stream",
     "text": [
      "/sciclone/home/ntlewis/research/.conda/lib/python3.8/site-packages/lsdtopytools/geoconvtools.py:79: NumbaDeprecationWarning: The keyword argument 'nopython=False' was supplied. From Numba 0.59.0 the default is being changed to True and use of 'nopython=False' will raise a warning as the argument will have no effect. See https://numba.readthedocs.io/en/stable/reference/deprecation.html#deprecation-of-object-mode-fall-back-behaviour-when-using-jit for details.\n",
      "  @nb.jit(nopython = False)\n",
      "/sciclone/home/ntlewis/research/.conda/lib/python3.8/site-packages/lsdtopytools/numba_tools.py:73: NumbaDeprecationWarning: The keyword argument 'nopython=False' was supplied. From Numba 0.59.0 the default is being changed to True and use of 'nopython=False' will raise a warning as the argument will have no effect. See https://numba.readthedocs.io/en/stable/reference/deprecation.html#deprecation-of-object-mode-fall-back-behaviour-when-using-jit for details.\n",
      "  @nb.jit(nopython=False, parallel = True)\n"
     ]
    }
   ],
   "source": [
    "import lsdtopytools as lsd\n",
    "from functions import *"
   ]
  },
  {
   "cell_type": "code",
   "execution_count": 2,
   "metadata": {},
   "outputs": [
    {
     "name": "stdout",
     "output_type": "stream",
     "text": [
      "['LSDDEM', 'PatchCollection', 'Path', 'Polygon', 'Pool', 'WrongInputTypeError', 'add_basin_outlines', 'average_from_grid_n_stuff_maybe_adaptative_and_all', 'create_single_fig_from_width', 'current_process', 'disorder_full_basin', 'disorder_full_basin_uncert', 'finalise_fig', 'fix_map_axis_to_kms', 'from_bounds', 'from_latlon', 'get_all_concavity_in_range_of_DA_from_baselevel', 'get_basemap', 'get_best_bit_and_err_from_Dstar', 'get_common_default_param', 'get_median_first_quartile_Dstar', 'get_median_first_quartile_Dstar_r', 'ingest_param', 'interp1d', 'latlon_to_zone_number', 'load_from_database', 'load_metadata_from_database', 'load_raster', 'lsdSHP', 'norm_by_row', 'norm_by_row_by_range', 'numba_hillshading', 'numfmt', 'plot_Dstar_maps_for_all_concavities', 'plot_basin', 'plot_check_catchments', 'plot_disorder_map', 'plot_disorder_results', 'plot_ksn_map', 'plot_main_figures', 'plot_min_D_star_map', 'plot_multiple_basins', 'plot_nice_topography', 'plot_one_thetha', 'plot_preprocessing_diff', 'plot_single_theta', 'post_process_analysis_for_Dstar', 'post_process_basins', 'process_basin', 'process_main_basin', 'process_multiple_basins', 'remove_outliers_in_drainage_divide', 'save_raster', 'save_to_database', 'savgol_filter', 'size_my_points', 'strikethrough', 'theta_quick_constrain_single_basin', 'to_latlon', 'travelling_salesman_algortihm', 'trim_knickpoint_internal']\n"
     ]
    }
   ],
   "source": [
    "function_list = [name for name in dir(lsd) if callable(getattr(lsd, name))]\n",
    "\n",
    "print(function_list)"
   ]
  },
  {
   "cell_type": "code",
   "execution_count": 2,
   "metadata": {},
   "outputs": [
    {
     "name": "stdout",
     "output_type": "stream",
     "text": [
      "Loading the raster from file: /sciclone/home/ntlewis/research/working_files/data/topo.tiff\n",
      "LOADING TOOK 0.08115053176879883\n",
      "I am recasting your nodata values to -9999 (standard LSDTT)\n",
      "PREPROC TOOK 0.0008389949798583984\n",
      "Alright, let me summon control upon the c++ code ...\n",
      "Got it.\n",
      "INGESTINGINTO CPP TOOK 0.004723072052001953\n",
      "I am an empty LSDJunctionNetwork\n",
      "Nrows:1350 and ncols:1350\n",
      "out Nrows:1350 and out ncols:1350\n",
      "\n",
      "I am an empty LSDJunctionNetwork\n",
      "Yes, yes, we know. Ignore the above depressing debugging text, that's perfectly normal to feel empty sometimes.\n",
      "FINALISATION TOOK 0.00023937225341796875\n",
      "lsdtopytools is now ready to roll!\n",
      "Carving: implementation of Lindsay (2016) DOI: 10.1002/hyp.10648\n",
      "Filling: implementation of Wang and Liu (2006): https://doi.org/10.1080/13658810500433453\n",
      "Processing...\n",
      "I am going to carve/breach your depressions in order to force flow paths.\n",
      "I am using an algorithm from Lindsay et al., 2016 DOI:https://doi.org/10.1002/hyp.10648\n",
      "DEM ready for flow routines!\n",
      "Processing common flow routines...\n",
      "Done!\n",
      "Implementation adapted from RichDEM: https://github.com/r-barnes/richdem\n",
      "Not widely tested yet, It may break...\n"
     ]
    }
   ],
   "source": [
    "generate_ksn()"
   ]
  },
  {
   "cell_type": "code",
   "execution_count": null,
   "metadata": {},
   "outputs": [],
   "source": []
  }
 ],
 "metadata": {
  "kernelspec": {
   "display_name": "Python 3",
   "language": "python",
   "name": "python3"
  },
  "language_info": {
   "codemirror_mode": {
    "name": "ipython",
    "version": 3
   },
   "file_extension": ".py",
   "mimetype": "text/x-python",
   "name": "python",
   "nbconvert_exporter": "python",
   "pygments_lexer": "ipython3",
   "version": "3.8.20"
  }
 },
 "nbformat": 4,
 "nbformat_minor": 2
}
