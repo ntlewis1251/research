{
 "cells": [
  {
   "cell_type": "code",
   "execution_count": 1,
   "metadata": {},
   "outputs": [
    {
     "name": "stdout",
     "output_type": "stream",
     "text": [
      "testing conda venv\n",
      "leveraging different environments\n"
     ]
    }
   ],
   "source": [
    "print(\"testing conda venv\\nleveraging different environments\")"
   ]
  },
  {
   "cell_type": "code",
   "execution_count": 2,
   "metadata": {},
   "outputs": [],
   "source": [
    "import lsdtopytools as lsd\n",
    "from functions import *"
   ]
  },
  {
   "cell_type": "code",
   "execution_count": 3,
   "metadata": {},
   "outputs": [
    {
     "name": "stdout",
     "output_type": "stream",
     "text": [
      "['LSDDEM', 'PatchCollection', 'Path', 'Polygon', 'Pool', 'WrongInputTypeError', 'add_basin_outlines', 'average_from_grid_n_stuff_maybe_adaptative_and_all', 'create_single_fig_from_width', 'current_process', 'disorder_full_basin', 'disorder_full_basin_uncert', 'finalise_fig', 'fix_map_axis_to_kms', 'from_bounds', 'from_latlon', 'get_all_concavity_in_range_of_DA_from_baselevel', 'get_basemap', 'get_best_bit_and_err_from_Dstar', 'get_common_default_param', 'get_median_first_quartile_Dstar', 'get_median_first_quartile_Dstar_r', 'ingest_param', 'interp1d', 'latlon_to_zone_number', 'load_from_database', 'load_metadata_from_database', 'load_raster', 'lsdSHP', 'norm_by_row', 'norm_by_row_by_range', 'numba_hillshading', 'numfmt', 'plot_Dstar_maps_for_all_concavities', 'plot_basin', 'plot_check_catchments', 'plot_disorder_map', 'plot_disorder_results', 'plot_ksn_map', 'plot_main_figures', 'plot_min_D_star_map', 'plot_multiple_basins', 'plot_nice_topography', 'plot_one_thetha', 'plot_preprocessing_diff', 'plot_single_theta', 'post_process_analysis_for_Dstar', 'post_process_basins', 'process_basin', 'process_main_basin', 'process_multiple_basins', 'remove_outliers_in_drainage_divide', 'save_raster', 'save_to_database', 'savgol_filter', 'size_my_points', 'strikethrough', 'theta_quick_constrain_single_basin', 'to_latlon', 'travelling_salesman_algortihm', 'trim_knickpoint_internal']\n"
     ]
    }
   ],
   "source": [
    "function_list = [name for name in dir(lsd) if callable(getattr(lsd, name))]\n",
    "\n",
    "print(function_list)"
   ]
  },
  {
   "cell_type": "code",
   "execution_count": 5,
   "metadata": {},
   "outputs": [
    {
     "data": {
      "text/plain": [
       "'a95becbaff9ab40058dbfe3535f5d6a5'"
      ]
     },
     "execution_count": 5,
     "metadata": {},
     "output_type": "execute_result"
    }
   ],
   "source": [
    "topo_key = get_key('../API_key.txt',2)\n",
    "topo_key"
   ]
  }
 ],
 "metadata": {
  "kernelspec": {
   "display_name": "Python 3",
   "language": "python",
   "name": "python3"
  },
  "language_info": {
   "codemirror_mode": {
    "name": "ipython",
    "version": 3
   },
   "file_extension": ".py",
   "mimetype": "text/x-python",
   "name": "python",
   "nbconvert_exporter": "python",
   "pygments_lexer": "ipython3",
   "version": "3.8.20"
  }
 },
 "nbformat": 4,
 "nbformat_minor": 2
}
